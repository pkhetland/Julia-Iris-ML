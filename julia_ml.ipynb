{
 "cells": [
  {
   "cell_type": "markdown",
   "metadata": {},
   "source": [
    "# Machine Learning Using Julia"
   ]
  },
  {
   "cell_type": "markdown",
   "metadata": {},
   "source": [
    "## Activate venv"
   ]
  },
  {
   "cell_type": "code",
   "execution_count": 1,
   "metadata": {},
   "outputs": [
    {
     "name": "stdout",
     "output_type": "stream",
     "text": [
      "\u001b[32m\u001b[1m    Status\u001b[22m\u001b[39m `/media/halper/Seagate/projects/julia_iris_ml/julia-ml/Project.toml`\n",
      " \u001b[90m [336ed68f]\u001b[39m\u001b[37m CSV v0.8.2\u001b[39m\n",
      " \u001b[90m [a93c6f00]\u001b[39m\u001b[37m DataFrames v0.21.8\u001b[39m\n",
      " \u001b[90m [7806a523]\u001b[39m\u001b[37m DecisionTree v0.10.10\u001b[39m\n",
      " \u001b[90m [38e38edf]\u001b[39m\u001b[37m GLM v1.3.11\u001b[39m\n",
      " \u001b[90m [b1bec4e5]\u001b[39m\u001b[37m LIBSVM v0.4.0\u001b[39m\n",
      " \u001b[90m [38d8eb38]\u001b[39m\u001b[37m Lathe v0.0.9\u001b[39m\n",
      " \u001b[90m [add582a8]\u001b[39m\u001b[37m MLJ v0.15.0\u001b[39m\n",
      " \u001b[90m [d491faf4]\u001b[39m\u001b[37m MLJModels v0.13.1\u001b[39m\n",
      " \u001b[90m [3646fa90]\u001b[39m\u001b[37m ScikitLearn v0.6.2\u001b[39m\n",
      " \u001b[90m [3eaba693]\u001b[39m\u001b[37m StatsModels v0.6.15\u001b[39m\n"
     ]
    }
   ],
   "source": [
    "using Pkg; Pkg.activate(\"julia-ml\")\n",
    "Pkg.status()"
   ]
  },
  {
   "cell_type": "markdown",
   "metadata": {},
   "source": [
    "## Import dataset"
   ]
  },
  {
   "cell_type": "code",
   "execution_count": 2,
   "metadata": {
    "scrolled": true
   },
   "outputs": [
    {
     "data": {
      "text/plain": [
       "150-element PooledArrays.PooledArray{String,UInt32,1,Array{UInt32,1}}:\n",
       " \"setosa\"   \n",
       " \"setosa\"   \n",
       " \"setosa\"   \n",
       " \"setosa\"   \n",
       " \"setosa\"   \n",
       " \"setosa\"   \n",
       " \"setosa\"   \n",
       " \"setosa\"   \n",
       " \"setosa\"   \n",
       " \"setosa\"   \n",
       " \"setosa\"   \n",
       " \"setosa\"   \n",
       " \"setosa\"   \n",
       " ⋮          \n",
       " \"virginica\"\n",
       " \"virginica\"\n",
       " \"virginica\"\n",
       " \"virginica\"\n",
       " \"virginica\"\n",
       " \"virginica\"\n",
       " \"virginica\"\n",
       " \"virginica\"\n",
       " \"virginica\"\n",
       " \"virginica\"\n",
       " \"virginica\"\n",
       " \"virginica\""
      ]
     },
     "execution_count": 2,
     "metadata": {},
     "output_type": "execute_result"
    }
   ],
   "source": [
    "using CSV, DataFrames\n",
    "\n",
    "iris = DataFrame(CSV.File(\"../../backup_datasets/iris/iris.csv\"))\n",
    "\n",
    "species = iris[:, :species]"
   ]
  },
  {
   "cell_type": "markdown",
   "metadata": {},
   "source": [
    "## Preprocessing"
   ]
  },
  {
   "cell_type": "markdown",
   "metadata": {},
   "source": [
    "### One-hot encoding"
   ]
  },
  {
   "cell_type": "code",
   "execution_count": null,
   "metadata": {},
   "outputs": [],
   "source": [
    "using Lathe\n",
    "\n",
    "scaled_feature = Lathe.preprocess.OneHotEncode(iris, :species)  # Perform OH encoding\n",
    "\n",
    "iris = select!(iris, Not([:species]))  # Remove original species column\n",
    "\n",
    "first(iris, 5)\n"
   ]
  },
  {
   "cell_type": "markdown",
   "metadata": {},
   "source": [
    "## Train/test-split"
   ]
  },
  {
   "cell_type": "code",
   "execution_count": null,
   "metadata": {
    "scrolled": true
   },
   "outputs": [],
   "source": [
    "using Random\n",
    "\n",
    "sample = randsubseq(1:size(iris, 1), 0.75)\n",
    "train = iris[sample, :]\n",
    "notsample = [i for i in 1:size(iris, 1) if isempty(searchsorted(sample, i))]\n",
    "test = iris[notsample, :]\n",
    "\n",
    "y_test = species[notsample]"
   ]
  },
  {
   "cell_type": "markdown",
   "metadata": {},
   "source": [
    "## Using GLM"
   ]
  },
  {
   "cell_type": "code",
   "execution_count": null,
   "metadata": {},
   "outputs": [],
   "source": [
    "using DataFrames, GLM\n",
    "\n",
    "fm_setosa = @formula(setosa ~ sepal_length + sepal_width + petal_length + petal_width)\n",
    "lm_setosa = glm(fm_setosa, train, Binomial(), LogitLink())\n",
    "pred_setosa = predict(lm_setosa, test)\n",
    "\n",
    "fm_virginica = @formula(virginica ~ sepal_length + sepal_width + petal_length + petal_width)\n",
    "lm_virginica = glm(fm_virginica, train, Binomial(), LogitLink())\n",
    "pred_virginica = predict(lm_virginica, test)\n",
    "\n",
    "fm_versicolor = @formula(versicolor ~ sepal_length + sepal_width + petal_length + petal_width)\n",
    "lm_versicolor = glm(fm_versicolor, train, Binomial(), LogitLink())\n",
    "pred_versicolor = predict(lm_versicolor, test)\n",
    "\n",
    "preds = hcat(pred_setosa, pred_virginica, pred_versicolor)"
   ]
  },
  {
   "cell_type": "code",
   "execution_count": null,
   "metadata": {},
   "outputs": [],
   "source": [
    "# Reclass by maximum predicted proba\n",
    "preds_cat = String[];\n",
    "\n",
    "for i in 1:nrow(DataFrame(preds))\n",
    "    if pred_setosa[i] >= pred_virginica[i] && pred_setosa[i] >= pred_versicolor[i]\n",
    "        preds_cat = vcat(preds_cat, \"setosa\")\n",
    "    elseif pred_versicolor[i] >= pred_virginica[i] && pred_versicolor[i] >= pred_setosa[i]\n",
    "        preds_cat = vcat(preds_cat, \"versicolor\")\n",
    "    else\n",
    "        preds_cat = vcat(preds_cat, \"virginica\")\n",
    "    end\n",
    "end"
   ]
  },
  {
   "cell_type": "code",
   "execution_count": null,
   "metadata": {},
   "outputs": [],
   "source": [
    "# Compute accuracy of GLM\n",
    "\n",
    "correct = 0\n",
    "\n",
    "n = length(y_test)\n",
    "for i in 1:n\n",
    "    if y_test[i] == preds_cat[i]\n",
    "        correct += 1\n",
    "    end\n",
    "end\n",
    "\n",
    "println(correct / n)"
   ]
  },
  {
   "cell_type": "code",
   "execution_count": null,
   "metadata": {},
   "outputs": [],
   "source": []
  }
 ],
 "metadata": {
  "kernelspec": {
   "display_name": "Julia 1.0.4",
   "language": "julia",
   "name": "julia-1.0"
  },
  "language_info": {
   "file_extension": ".jl",
   "mimetype": "application/julia",
   "name": "julia",
   "version": "1.0.4"
  }
 },
 "nbformat": 4,
 "nbformat_minor": 4
}
