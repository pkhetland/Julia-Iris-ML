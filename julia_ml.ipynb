{
 "cells": [
  {
   "cell_type": "markdown",
   "metadata": {},
   "source": [
    "# Machine Learning Using Julia"
   ]
  },
  {
   "cell_type": "markdown",
   "metadata": {},
   "source": [
    "## Activate venv"
   ]
  },
  {
   "cell_type": "code",
   "execution_count": 1,
   "metadata": {},
   "outputs": [
    {
     "name": "stdout",
     "output_type": "stream",
     "text": [
      "\u001b[32m\u001b[1m    Status\u001b[22m\u001b[39m `/media/halper/Seagate/projects/julia_iris_ml/julia-ml/Project.toml`\n",
      " \u001b[90m [336ed68f]\u001b[39m\u001b[37m CSV v0.8.2\u001b[39m\n",
      " \u001b[90m [a93c6f00]\u001b[39m\u001b[37m DataFrames v0.21.8\u001b[39m\n",
      " \u001b[90m [7806a523]\u001b[39m\u001b[37m DecisionTree v0.10.10\u001b[39m\n",
      " \u001b[90m [38e38edf]\u001b[39m\u001b[37m GLM v1.3.11\u001b[39m\n",
      " \u001b[90m [b1bec4e5]\u001b[39m\u001b[37m LIBSVM v0.4.0\u001b[39m\n",
      " \u001b[90m [38d8eb38]\u001b[39m\u001b[37m Lathe v0.0.9\u001b[39m\n",
      " \u001b[90m [add582a8]\u001b[39m\u001b[37m MLJ v0.15.0\u001b[39m\n",
      " \u001b[90m [d491faf4]\u001b[39m\u001b[37m MLJModels v0.13.1\u001b[39m\n",
      " \u001b[90m [3646fa90]\u001b[39m\u001b[37m ScikitLearn v0.6.2\u001b[39m\n",
      " \u001b[90m [3eaba693]\u001b[39m\u001b[37m StatsModels v0.6.15\u001b[39m\n"
     ]
    }
   ],
   "source": [
    " \n",
    "Pkg.status()"
   ]
  },
  {
   "cell_type": "markdown",
   "metadata": {},
   "source": [
    "## Import dataset"
   ]
  },
  {
   "cell_type": "code",
   "execution_count": 2,
   "metadata": {
    "scrolled": true
   },
   "outputs": [
    {
     "data": {
      "text/plain": [
       "150-element PooledArrays.PooledArray{String,UInt32,1,Array{UInt32,1}}:\n",
       " \"setosa\"   \n",
       " \"setosa\"   \n",
       " \"setosa\"   \n",
       " \"setosa\"   \n",
       " \"setosa\"   \n",
       " \"setosa\"   \n",
       " \"setosa\"   \n",
       " \"setosa\"   \n",
       " \"setosa\"   \n",
       " \"setosa\"   \n",
       " \"setosa\"   \n",
       " \"setosa\"   \n",
       " \"setosa\"   \n",
       " ⋮          \n",
       " \"virginica\"\n",
       " \"virginica\"\n",
       " \"virginica\"\n",
       " \"virginica\"\n",
       " \"virginica\"\n",
       " \"virginica\"\n",
       " \"virginica\"\n",
       " \"virginica\"\n",
       " \"virginica\"\n",
       " \"virginica\"\n",
       " \"virginica\"\n",
       " \"virginica\""
      ]
     },
     "execution_count": 2,
     "metadata": {},
     "output_type": "execute_result"
    }
   ],
   "source": [
    "using CSV, DataFrames\n",
    "\n",
    "iris = DataFrame(CSV.File(\"../../backup_datasets/iris/iris.csv\"))\n",
    "\n",
    "species = iris[:, :species]"
   ]
  },
  {
   "cell_type": "markdown",
   "metadata": {},
   "source": [
    "## Preprocessing"
   ]
  },
  {
   "cell_type": "markdown",
   "metadata": {},
   "source": [
    "### One-hot encoding"
   ]
  },
  {
   "cell_type": "code",
   "execution_count": 3,
   "metadata": {},
   "outputs": [
    {
     "data": {
      "text/html": [
       "<table class=\"data-frame\"><thead><tr><th></th><th>sepal_length</th><th>sepal_width</th><th>petal_length</th><th>petal_width</th><th>setosa</th><th>versicolor</th><th>virginica</th></tr><tr><th></th><th>Float64</th><th>Float64</th><th>Float64</th><th>Float64</th><th>Bool</th><th>Bool</th><th>Bool</th></tr></thead><tbody><p>5 rows × 7 columns</p><tr><th>1</th><td>5.1</td><td>3.5</td><td>1.4</td><td>0.2</td><td>true</td><td>false</td><td>false</td></tr><tr><th>2</th><td>4.9</td><td>3.0</td><td>1.4</td><td>0.2</td><td>true</td><td>false</td><td>false</td></tr><tr><th>3</th><td>4.7</td><td>3.2</td><td>1.3</td><td>0.2</td><td>true</td><td>false</td><td>false</td></tr><tr><th>4</th><td>4.6</td><td>3.1</td><td>1.5</td><td>0.2</td><td>true</td><td>false</td><td>false</td></tr><tr><th>5</th><td>5.0</td><td>3.6</td><td>1.4</td><td>0.2</td><td>true</td><td>false</td><td>false</td></tr></tbody></table>"
      ],
      "text/latex": [
       "\\begin{tabular}{r|ccccccc}\n",
       "\t& sepal\\_length & sepal\\_width & petal\\_length & petal\\_width & setosa & versicolor & virginica\\\\\n",
       "\t\\hline\n",
       "\t& Float64 & Float64 & Float64 & Float64 & Bool & Bool & Bool\\\\\n",
       "\t\\hline\n",
       "\t1 & 5.1 & 3.5 & 1.4 & 0.2 & true & false & false \\\\\n",
       "\t2 & 4.9 & 3.0 & 1.4 & 0.2 & true & false & false \\\\\n",
       "\t3 & 4.7 & 3.2 & 1.3 & 0.2 & true & false & false \\\\\n",
       "\t4 & 4.6 & 3.1 & 1.5 & 0.2 & true & false & false \\\\\n",
       "\t5 & 5.0 & 3.6 & 1.4 & 0.2 & true & false & false \\\\\n",
       "\\end{tabular}\n"
      ],
      "text/plain": [
       "5×7 DataFrame. Omitted printing of 2 columns\n",
       "│ Row │ sepal_length │ sepal_width │ petal_length │ petal_width │ setosa │\n",
       "│     │ \u001b[90mFloat64\u001b[39m      │ \u001b[90mFloat64\u001b[39m     │ \u001b[90mFloat64\u001b[39m      │ \u001b[90mFloat64\u001b[39m     │ \u001b[90mBool\u001b[39m   │\n",
       "├─────┼──────────────┼─────────────┼──────────────┼─────────────┼────────┤\n",
       "│ 1   │ 5.1          │ 3.5         │ 1.4          │ 0.2         │ true   │\n",
       "│ 2   │ 4.9          │ 3.0         │ 1.4          │ 0.2         │ true   │\n",
       "│ 3   │ 4.7          │ 3.2         │ 1.3          │ 0.2         │ true   │\n",
       "│ 4   │ 4.6          │ 3.1         │ 1.5          │ 0.2         │ true   │\n",
       "│ 5   │ 5.0          │ 3.6         │ 1.4          │ 0.2         │ true   │"
      ]
     },
     "execution_count": 3,
     "metadata": {},
     "output_type": "execute_result"
    }
   ],
   "source": [
    "using Lathe\n",
    "\n",
    "scaled_feature = Lathe.preprocess.OneHotEncode(iris, :species)  # Perform OH encoding\n",
    "\n",
    "iris = selectT!(iris, Not([:species]))  # Remove original species column\n",
    "\n",
    "first(iris, 5)\n"
   ]
  },
  {
   "cell_type": "markdown",
   "metadata": {},
   "source": [
    "## Train/test-split"
   ]
  },
  {
   "cell_type": "code",
   "execution_count": 4,
   "metadata": {
    "scrolled": true
   },
   "outputs": [
    {
     "data": {
      "text/plain": [
       "45-element PooledArrays.PooledArray{String,UInt32,1,Array{UInt32,1}}:\n",
       " \"setosa\"   \n",
       " \"setosa\"   \n",
       " \"setosa\"   \n",
       " \"setosa\"   \n",
       " \"setosa\"   \n",
       " \"setosa\"   \n",
       " \"setosa\"   \n",
       " \"setosa\"   \n",
       " \"setosa\"   \n",
       " \"setosa\"   \n",
       " \"setosa\"   \n",
       " \"setosa\"   \n",
       " \"setosa\"   \n",
       " ⋮          \n",
       " \"virginica\"\n",
       " \"virginica\"\n",
       " \"virginica\"\n",
       " \"virginica\"\n",
       " \"virginica\"\n",
       " \"virginica\"\n",
       " \"virginica\"\n",
       " \"virginica\"\n",
       " \"virginica\"\n",
       " \"virginica\"\n",
       " \"virginica\"\n",
       " \"virginica\""
      ]
     },
     "execution_count": 4,
     "metadata": {},
     "output_type": "execute_result"
    }
   ],
   "source": [
    "using Random\n",
    "\n",
    "sample = randsubseq(1:size(iris, 1), 0.75)\n",
    "train = iris[sample, :]\n",
    "notsample = [i for i in 1:size(iris, 1) if isempty(searchsorted(sample, i))]\n",
    "test = iris[notsample, :]\n",
    "\n",
    "y_test = species[notsample]"
   ]
  },
  {
   "cell_type": "markdown",
   "metadata": {},
   "source": [
    "## Using GLM"
   ]
  },
  {
   "cell_type": "code",
   "execution_count": 5,
   "metadata": {},
   "outputs": [
    {
     "data": {
      "text/plain": [
       "45×3 Array{Float64,2}:\n",
       " 1.0          8.08672e-18  0.197724  \n",
       " 1.0          1.03352e-18  0.0316617 \n",
       " 1.0          4.96012e-19  0.0285771 \n",
       " 1.0          1.59551e-18  0.0045917 \n",
       " 1.0          2.41963e-18  0.0339515 \n",
       " 1.0          2.21699e-17  0.0120309 \n",
       " 1.0          2.17532e-19  0.0156983 \n",
       " 1.0          3.07711e-16  0.0535158 \n",
       " 1.0          3.4314e-18   0.334661  \n",
       " 1.0          3.78321e-19  0.00762672\n",
       " 1.0          2.07397e-19  0.00343455\n",
       " 1.0          6.14976e-20  0.0501334 \n",
       " 1.0          3.48849e-18  0.205872  \n",
       " ⋮                                   \n",
       " 2.04075e-26  1.0          0.00871156\n",
       " 2.08437e-22  0.999701     0.147322  \n",
       " 5.83629e-25  0.999981     0.0224368 \n",
       " 7.28646e-20  0.272367     0.941128  \n",
       " 2.76556e-19  0.781956     0.395061  \n",
       " 6.65951e-20  0.998721     0.358361  \n",
       " 3.15841e-21  0.906307     0.915437  \n",
       " 5.79976e-28  1.0          0.00995493\n",
       " 9.79358e-20  0.865575     0.128183  \n",
       " 1.99253e-26  0.999999     0.0583912 \n",
       " 2.52873e-21  0.962528     0.537977  \n",
       " 3.26321e-22  0.990161     0.175877  "
      ]
     },
     "execution_count": 5,
     "metadata": {},
     "output_type": "execute_result"
    }
   ],
   "source": [
    "using DataFrames, GLM\n",
    "\n",
    "fm_setosa = @formula(setosa ~ sepal_length + sepal_width + petal_length + petal_width)\n",
    "lm_setosa = glm(fm_setosa, train, Binomial(), LogitLink())\n",
    "pred_setosa = predict(lm_setosa, test)\n",
    "\n",
    "fm_virginica = @formula(virginica ~ sepal_length + sepal_width + petal_length + petal_width)\n",
    "lm_virginica = glm(fm_virginica, train, Binomial(), LogitLink())\n",
    "pred_virginica = predict(lm_virginica, test)\n",
    "\n",
    "fm_versicolor = @formula(versicolor ~ sepal_length + sepal_width + petal_length + petal_width)\n",
    "lm_versicolor = glm(fm_versicolor, train, Binomial(), LogitLink())\n",
    "pred_versicolor = predict(lm_versicolor, test)\n",
    "\n",
    "preds = hcat(pred_setosa, pred_virginica, pred_versicolor)"
   ]
  },
  {
   "cell_type": "code",
   "execution_count": 6,
   "metadata": {},
   "outputs": [],
   "source": [
    "# Reclass by maximum predicted proba\n",
    "preds_cat = String[];\n",
    "\n",
    "for i in 1:nrow(DataFrame(preds))\n",
    "    if pred_setosa[i] >= pred_virginica[i] && pred_setosa[i] >= pred_versicolor[i]\n",
    "        preds_cat = vcat(preds_cat, \"setosa\")\n",
    "    elseif pred_versicolor[i] >= pred_virginica[i] && pred_versicolor[i] >= pred_setosa[i]\n",
    "        preds_cat = vcat(preds_cat, \"versicolor\")\n",
    "    else\n",
    "        preds_cat = vcat(preds_cat, \"virginica\")\n",
    "    end\n",
    "end"
   ]
  },
  {
   "cell_type": "code",
   "execution_count": 7,
   "metadata": {},
   "outputs": [
    {
     "name": "stdout",
     "output_type": "stream",
     "text": [
      "0.9111111111111111\n"
     ]
    }
   ],
   "source": [
    "# Compute accuracy of GLM\n",
    "\n",
    "correct = 0\n",
    "\n",
    "n = length(y_test)\n",
    "for i in 1:n\n",
    "    if y_test[i] == preds_cat[i]\n",
    "        correct += 1\n",
    "    end\n",
    "end\n",
    "\n",
    "println(correct / n)"
   ]
  },
  {
   "cell_type": "code",
   "execution_count": null,
   "metadata": {},
   "outputs": [],
   "source": []
  }
 ],
 "metadata": {
  "kernelspec": {
   "display_name": "Julia 1.0.4",
   "language": "julia",
   "name": "julia-1.0"
  },
  "language_info": {
   "file_extension": ".jl",
   "mimetype": "application/julia",
   "name": "julia",
   "version": "1.0.4"
  }
 },
 "nbformat": 4,
 "nbformat_minor": 4
}
