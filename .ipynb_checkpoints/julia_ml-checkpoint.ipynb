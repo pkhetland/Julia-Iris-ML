{
 "cells": [
  {
   "cell_type": "markdown",
   "metadata": {},
   "source": [
    "# Machine Learning Using Julia"
   ]
  },
  {
   "cell_type": "markdown",
   "metadata": {},
   "source": [
    "## Activate venv"
   ]
  },
  {
   "cell_type": "code",
   "execution_count": 62,
   "metadata": {},
   "outputs": [
    {
     "name": "stdout",
     "output_type": "stream",
     "text": [
      "\u001b[32m\u001b[1m    Status\u001b[22m\u001b[39m `/media/halper/Seagate/projects/julia_iris_ml/julia-ml/Project.toml`\n",
      " \u001b[90m [336ed68f]\u001b[39m\u001b[37m CSV v0.8.2\u001b[39m\n",
      " \u001b[90m [a93c6f00]\u001b[39m\u001b[37m DataFrames v0.21.8\u001b[39m\n",
      " \u001b[90m [7806a523]\u001b[39m\u001b[37m DecisionTree v0.10.10\u001b[39m\n",
      " \u001b[90m [38e38edf]\u001b[39m\u001b[37m GLM v1.3.11\u001b[39m\n",
      " \u001b[90m [b1bec4e5]\u001b[39m\u001b[37m LIBSVM v0.4.0\u001b[39m\n",
      " \u001b[90m [38d8eb38]\u001b[39m\u001b[37m Lathe v0.0.9\u001b[39m\n",
      " \u001b[90m [add582a8]\u001b[39m\u001b[37m MLJ v0.15.0\u001b[39m\n",
      " \u001b[90m [d491faf4]\u001b[39m\u001b[37m MLJModels v0.13.1\u001b[39m\n",
      " \u001b[90m [3646fa90]\u001b[39m\u001b[37m ScikitLearn v0.6.2\u001b[39m\n",
      " \u001b[90m [3eaba693]\u001b[39m\u001b[37m StatsModels v0.6.15\u001b[39m\n"
     ]
    }
   ],
   "source": [
    "using Pkg; Pkg.activate(\"julia-ml\")\n",
    "Pkg.status()"
   ]
  },
  {
   "cell_type": "markdown",
   "metadata": {},
   "source": [
    "## Import dataset"
   ]
  },
  {
   "cell_type": "code",
   "execution_count": 63,
   "metadata": {
    "scrolled": true
   },
   "outputs": [
    {
     "data": {
      "text/html": [
       "<table class=\"data-frame\"><thead><tr><th></th><th>sepal_length</th><th>sepal_width</th><th>petal_length</th><th>petal_width</th><th>species</th></tr><tr><th></th><th>Float64</th><th>Float64</th><th>Float64</th><th>Float64</th><th>String</th></tr></thead><tbody><p>150 rows × 5 columns</p><tr><th>1</th><td>5.1</td><td>3.5</td><td>1.4</td><td>0.2</td><td>setosa</td></tr><tr><th>2</th><td>4.9</td><td>3.0</td><td>1.4</td><td>0.2</td><td>setosa</td></tr><tr><th>3</th><td>4.7</td><td>3.2</td><td>1.3</td><td>0.2</td><td>setosa</td></tr><tr><th>4</th><td>4.6</td><td>3.1</td><td>1.5</td><td>0.2</td><td>setosa</td></tr><tr><th>5</th><td>5.0</td><td>3.6</td><td>1.4</td><td>0.2</td><td>setosa</td></tr><tr><th>6</th><td>5.4</td><td>3.9</td><td>1.7</td><td>0.4</td><td>setosa</td></tr><tr><th>7</th><td>4.6</td><td>3.4</td><td>1.4</td><td>0.3</td><td>setosa</td></tr><tr><th>8</th><td>5.0</td><td>3.4</td><td>1.5</td><td>0.2</td><td>setosa</td></tr><tr><th>9</th><td>4.4</td><td>2.9</td><td>1.4</td><td>0.2</td><td>setosa</td></tr><tr><th>10</th><td>4.9</td><td>3.1</td><td>1.5</td><td>0.1</td><td>setosa</td></tr><tr><th>11</th><td>5.4</td><td>3.7</td><td>1.5</td><td>0.2</td><td>setosa</td></tr><tr><th>12</th><td>4.8</td><td>3.4</td><td>1.6</td><td>0.2</td><td>setosa</td></tr><tr><th>13</th><td>4.8</td><td>3.0</td><td>1.4</td><td>0.1</td><td>setosa</td></tr><tr><th>14</th><td>4.3</td><td>3.0</td><td>1.1</td><td>0.1</td><td>setosa</td></tr><tr><th>15</th><td>5.8</td><td>4.0</td><td>1.2</td><td>0.2</td><td>setosa</td></tr><tr><th>16</th><td>5.7</td><td>4.4</td><td>1.5</td><td>0.4</td><td>setosa</td></tr><tr><th>17</th><td>5.4</td><td>3.9</td><td>1.3</td><td>0.4</td><td>setosa</td></tr><tr><th>18</th><td>5.1</td><td>3.5</td><td>1.4</td><td>0.3</td><td>setosa</td></tr><tr><th>19</th><td>5.7</td><td>3.8</td><td>1.7</td><td>0.3</td><td>setosa</td></tr><tr><th>20</th><td>5.1</td><td>3.8</td><td>1.5</td><td>0.3</td><td>setosa</td></tr><tr><th>21</th><td>5.4</td><td>3.4</td><td>1.7</td><td>0.2</td><td>setosa</td></tr><tr><th>22</th><td>5.1</td><td>3.7</td><td>1.5</td><td>0.4</td><td>setosa</td></tr><tr><th>23</th><td>4.6</td><td>3.6</td><td>1.0</td><td>0.2</td><td>setosa</td></tr><tr><th>24</th><td>5.1</td><td>3.3</td><td>1.7</td><td>0.5</td><td>setosa</td></tr><tr><th>25</th><td>4.8</td><td>3.4</td><td>1.9</td><td>0.2</td><td>setosa</td></tr><tr><th>26</th><td>5.0</td><td>3.0</td><td>1.6</td><td>0.2</td><td>setosa</td></tr><tr><th>27</th><td>5.0</td><td>3.4</td><td>1.6</td><td>0.4</td><td>setosa</td></tr><tr><th>28</th><td>5.2</td><td>3.5</td><td>1.5</td><td>0.2</td><td>setosa</td></tr><tr><th>29</th><td>5.2</td><td>3.4</td><td>1.4</td><td>0.2</td><td>setosa</td></tr><tr><th>30</th><td>4.7</td><td>3.2</td><td>1.6</td><td>0.2</td><td>setosa</td></tr><tr><th>&vellip;</th><td>&vellip;</td><td>&vellip;</td><td>&vellip;</td><td>&vellip;</td><td>&vellip;</td></tr></tbody></table>"
      ],
      "text/latex": [
       "\\begin{tabular}{r|ccccc}\n",
       "\t& sepal\\_length & sepal\\_width & petal\\_length & petal\\_width & species\\\\\n",
       "\t\\hline\n",
       "\t& Float64 & Float64 & Float64 & Float64 & String\\\\\n",
       "\t\\hline\n",
       "\t1 & 5.1 & 3.5 & 1.4 & 0.2 & setosa \\\\\n",
       "\t2 & 4.9 & 3.0 & 1.4 & 0.2 & setosa \\\\\n",
       "\t3 & 4.7 & 3.2 & 1.3 & 0.2 & setosa \\\\\n",
       "\t4 & 4.6 & 3.1 & 1.5 & 0.2 & setosa \\\\\n",
       "\t5 & 5.0 & 3.6 & 1.4 & 0.2 & setosa \\\\\n",
       "\t6 & 5.4 & 3.9 & 1.7 & 0.4 & setosa \\\\\n",
       "\t7 & 4.6 & 3.4 & 1.4 & 0.3 & setosa \\\\\n",
       "\t8 & 5.0 & 3.4 & 1.5 & 0.2 & setosa \\\\\n",
       "\t9 & 4.4 & 2.9 & 1.4 & 0.2 & setosa \\\\\n",
       "\t10 & 4.9 & 3.1 & 1.5 & 0.1 & setosa \\\\\n",
       "\t11 & 5.4 & 3.7 & 1.5 & 0.2 & setosa \\\\\n",
       "\t12 & 4.8 & 3.4 & 1.6 & 0.2 & setosa \\\\\n",
       "\t13 & 4.8 & 3.0 & 1.4 & 0.1 & setosa \\\\\n",
       "\t14 & 4.3 & 3.0 & 1.1 & 0.1 & setosa \\\\\n",
       "\t15 & 5.8 & 4.0 & 1.2 & 0.2 & setosa \\\\\n",
       "\t16 & 5.7 & 4.4 & 1.5 & 0.4 & setosa \\\\\n",
       "\t17 & 5.4 & 3.9 & 1.3 & 0.4 & setosa \\\\\n",
       "\t18 & 5.1 & 3.5 & 1.4 & 0.3 & setosa \\\\\n",
       "\t19 & 5.7 & 3.8 & 1.7 & 0.3 & setosa \\\\\n",
       "\t20 & 5.1 & 3.8 & 1.5 & 0.3 & setosa \\\\\n",
       "\t21 & 5.4 & 3.4 & 1.7 & 0.2 & setosa \\\\\n",
       "\t22 & 5.1 & 3.7 & 1.5 & 0.4 & setosa \\\\\n",
       "\t23 & 4.6 & 3.6 & 1.0 & 0.2 & setosa \\\\\n",
       "\t24 & 5.1 & 3.3 & 1.7 & 0.5 & setosa \\\\\n",
       "\t25 & 4.8 & 3.4 & 1.9 & 0.2 & setosa \\\\\n",
       "\t26 & 5.0 & 3.0 & 1.6 & 0.2 & setosa \\\\\n",
       "\t27 & 5.0 & 3.4 & 1.6 & 0.4 & setosa \\\\\n",
       "\t28 & 5.2 & 3.5 & 1.5 & 0.2 & setosa \\\\\n",
       "\t29 & 5.2 & 3.4 & 1.4 & 0.2 & setosa \\\\\n",
       "\t30 & 4.7 & 3.2 & 1.6 & 0.2 & setosa \\\\\n",
       "\t$\\dots$ & $\\dots$ & $\\dots$ & $\\dots$ & $\\dots$ & $\\dots$ \\\\\n",
       "\\end{tabular}\n"
      ],
      "text/plain": [
       "150×5 DataFrame\n",
       "│ Row │ sepal_length │ sepal_width │ petal_length │ petal_width │ species   │\n",
       "│     │ \u001b[90mFloat64\u001b[39m      │ \u001b[90mFloat64\u001b[39m     │ \u001b[90mFloat64\u001b[39m      │ \u001b[90mFloat64\u001b[39m     │ \u001b[90mString\u001b[39m    │\n",
       "├─────┼──────────────┼─────────────┼──────────────┼─────────────┼───────────┤\n",
       "│ 1   │ 5.1          │ 3.5         │ 1.4          │ 0.2         │ setosa    │\n",
       "│ 2   │ 4.9          │ 3.0         │ 1.4          │ 0.2         │ setosa    │\n",
       "│ 3   │ 4.7          │ 3.2         │ 1.3          │ 0.2         │ setosa    │\n",
       "│ 4   │ 4.6          │ 3.1         │ 1.5          │ 0.2         │ setosa    │\n",
       "│ 5   │ 5.0          │ 3.6         │ 1.4          │ 0.2         │ setosa    │\n",
       "│ 6   │ 5.4          │ 3.9         │ 1.7          │ 0.4         │ setosa    │\n",
       "│ 7   │ 4.6          │ 3.4         │ 1.4          │ 0.3         │ setosa    │\n",
       "│ 8   │ 5.0          │ 3.4         │ 1.5          │ 0.2         │ setosa    │\n",
       "│ 9   │ 4.4          │ 2.9         │ 1.4          │ 0.2         │ setosa    │\n",
       "│ 10  │ 4.9          │ 3.1         │ 1.5          │ 0.1         │ setosa    │\n",
       "⋮\n",
       "│ 140 │ 6.9          │ 3.1         │ 5.4          │ 2.1         │ virginica │\n",
       "│ 141 │ 6.7          │ 3.1         │ 5.6          │ 2.4         │ virginica │\n",
       "│ 142 │ 6.9          │ 3.1         │ 5.1          │ 2.3         │ virginica │\n",
       "│ 143 │ 5.8          │ 2.7         │ 5.1          │ 1.9         │ virginica │\n",
       "│ 144 │ 6.8          │ 3.2         │ 5.9          │ 2.3         │ virginica │\n",
       "│ 145 │ 6.7          │ 3.3         │ 5.7          │ 2.5         │ virginica │\n",
       "│ 146 │ 6.7          │ 3.0         │ 5.2          │ 2.3         │ virginica │\n",
       "│ 147 │ 6.3          │ 2.5         │ 5.0          │ 1.9         │ virginica │\n",
       "│ 148 │ 6.5          │ 3.0         │ 5.2          │ 2.0         │ virginica │\n",
       "│ 149 │ 6.2          │ 3.4         │ 5.4          │ 2.3         │ virginica │\n",
       "│ 150 │ 5.9          │ 3.0         │ 5.1          │ 1.8         │ virginica │"
      ]
     },
     "execution_count": 63,
     "metadata": {},
     "output_type": "execute_result"
    }
   ],
   "source": [
    "using CSV, DataFrames\n",
    "\n",
    "iris = DataFrame(CSV.File(\"../../backup_datasets/iris/iris.csv\"))"
   ]
  },
  {
   "cell_type": "markdown",
   "metadata": {},
   "source": [
    "## Preprocessing"
   ]
  },
  {
   "cell_type": "markdown",
   "metadata": {},
   "source": [
    "### One-hot encoding"
   ]
  },
  {
   "cell_type": "code",
   "execution_count": 64,
   "metadata": {},
   "outputs": [
    {
     "data": {
      "text/html": [
       "<table class=\"data-frame\"><thead><tr><th></th><th>sepal_length</th><th>sepal_width</th><th>petal_length</th><th>petal_width</th><th>setosa</th><th>versicolor</th><th>virginica</th></tr><tr><th></th><th>Float64</th><th>Float64</th><th>Float64</th><th>Float64</th><th>Bool</th><th>Bool</th><th>Bool</th></tr></thead><tbody><p>5 rows × 7 columns</p><tr><th>1</th><td>5.1</td><td>3.5</td><td>1.4</td><td>0.2</td><td>true</td><td>false</td><td>false</td></tr><tr><th>2</th><td>4.9</td><td>3.0</td><td>1.4</td><td>0.2</td><td>true</td><td>false</td><td>false</td></tr><tr><th>3</th><td>4.7</td><td>3.2</td><td>1.3</td><td>0.2</td><td>true</td><td>false</td><td>false</td></tr><tr><th>4</th><td>4.6</td><td>3.1</td><td>1.5</td><td>0.2</td><td>true</td><td>false</td><td>false</td></tr><tr><th>5</th><td>5.0</td><td>3.6</td><td>1.4</td><td>0.2</td><td>true</td><td>false</td><td>false</td></tr></tbody></table>"
      ],
      "text/latex": [
       "\\begin{tabular}{r|ccccccc}\n",
       "\t& sepal\\_length & sepal\\_width & petal\\_length & petal\\_width & setosa & versicolor & virginica\\\\\n",
       "\t\\hline\n",
       "\t& Float64 & Float64 & Float64 & Float64 & Bool & Bool & Bool\\\\\n",
       "\t\\hline\n",
       "\t1 & 5.1 & 3.5 & 1.4 & 0.2 & true & false & false \\\\\n",
       "\t2 & 4.9 & 3.0 & 1.4 & 0.2 & true & false & false \\\\\n",
       "\t3 & 4.7 & 3.2 & 1.3 & 0.2 & true & false & false \\\\\n",
       "\t4 & 4.6 & 3.1 & 1.5 & 0.2 & true & false & false \\\\\n",
       "\t5 & 5.0 & 3.6 & 1.4 & 0.2 & true & false & false \\\\\n",
       "\\end{tabular}\n"
      ],
      "text/plain": [
       "5×7 DataFrame. Omitted printing of 2 columns\n",
       "│ Row │ sepal_length │ sepal_width │ petal_length │ petal_width │ setosa │\n",
       "│     │ \u001b[90mFloat64\u001b[39m      │ \u001b[90mFloat64\u001b[39m     │ \u001b[90mFloat64\u001b[39m      │ \u001b[90mFloat64\u001b[39m     │ \u001b[90mBool\u001b[39m   │\n",
       "├─────┼──────────────┼─────────────┼──────────────┼─────────────┼────────┤\n",
       "│ 1   │ 5.1          │ 3.5         │ 1.4          │ 0.2         │ true   │\n",
       "│ 2   │ 4.9          │ 3.0         │ 1.4          │ 0.2         │ true   │\n",
       "│ 3   │ 4.7          │ 3.2         │ 1.3          │ 0.2         │ true   │\n",
       "│ 4   │ 4.6          │ 3.1         │ 1.5          │ 0.2         │ true   │\n",
       "│ 5   │ 5.0          │ 3.6         │ 1.4          │ 0.2         │ true   │"
      ]
     },
     "execution_count": 64,
     "metadata": {},
     "output_type": "execute_result"
    }
   ],
   "source": [
    "using Lathe\n",
    "\n",
    "scaled_feature = Lathe.preprocess.OneHotEncode(iris, :species)  # Perform OH encoding\n",
    "\n",
    "iris = select!(iris, Not([:species]))  # Remove original species column\n",
    "\n",
    "first(iris, 5)\n"
   ]
  },
  {
   "cell_type": "markdown",
   "metadata": {},
   "source": [
    "## Train/test-split"
   ]
  },
  {
   "cell_type": "code",
   "execution_count": 65,
   "metadata": {
    "scrolled": true
   },
   "outputs": [
    {
     "data": {
      "text/html": [
       "<table class=\"data-frame\"><thead><tr><th></th><th>sepal_length</th><th>sepal_width</th><th>petal_length</th><th>petal_width</th><th>setosa</th><th>versicolor</th><th>virginica</th></tr><tr><th></th><th>Float64</th><th>Float64</th><th>Float64</th><th>Float64</th><th>Bool</th><th>Bool</th><th>Bool</th></tr></thead><tbody><p>35 rows × 7 columns</p><tr><th>1</th><td>5.0</td><td>3.4</td><td>1.5</td><td>0.2</td><td>true</td><td>false</td><td>false</td></tr><tr><th>2</th><td>5.4</td><td>3.7</td><td>1.5</td><td>0.2</td><td>true</td><td>false</td><td>false</td></tr><tr><th>3</th><td>4.3</td><td>3.0</td><td>1.1</td><td>0.1</td><td>true</td><td>false</td><td>false</td></tr><tr><th>4</th><td>5.8</td><td>4.0</td><td>1.2</td><td>0.2</td><td>true</td><td>false</td><td>false</td></tr><tr><th>5</th><td>5.7</td><td>4.4</td><td>1.5</td><td>0.4</td><td>true</td><td>false</td><td>false</td></tr><tr><th>6</th><td>5.7</td><td>3.8</td><td>1.7</td><td>0.3</td><td>true</td><td>false</td><td>false</td></tr><tr><th>7</th><td>5.2</td><td>3.4</td><td>1.4</td><td>0.2</td><td>true</td><td>false</td><td>false</td></tr><tr><th>8</th><td>4.8</td><td>3.1</td><td>1.6</td><td>0.2</td><td>true</td><td>false</td><td>false</td></tr><tr><th>9</th><td>5.4</td><td>3.4</td><td>1.5</td><td>0.4</td><td>true</td><td>false</td><td>false</td></tr><tr><th>10</th><td>4.9</td><td>3.1</td><td>1.5</td><td>0.1</td><td>true</td><td>false</td><td>false</td></tr><tr><th>11</th><td>5.0</td><td>3.5</td><td>1.3</td><td>0.3</td><td>true</td><td>false</td><td>false</td></tr><tr><th>12</th><td>5.0</td><td>3.5</td><td>1.6</td><td>0.6</td><td>true</td><td>false</td><td>false</td></tr><tr><th>13</th><td>5.1</td><td>3.8</td><td>1.6</td><td>0.2</td><td>true</td><td>false</td><td>false</td></tr><tr><th>14</th><td>5.0</td><td>3.3</td><td>1.4</td><td>0.2</td><td>true</td><td>false</td><td>false</td></tr><tr><th>15</th><td>6.9</td><td>3.1</td><td>4.9</td><td>1.5</td><td>false</td><td>true</td><td>false</td></tr><tr><th>16</th><td>6.5</td><td>2.8</td><td>4.6</td><td>1.5</td><td>false</td><td>true</td><td>false</td></tr><tr><th>17</th><td>6.3</td><td>3.3</td><td>4.7</td><td>1.6</td><td>false</td><td>true</td><td>false</td></tr><tr><th>18</th><td>6.3</td><td>2.5</td><td>4.9</td><td>1.5</td><td>false</td><td>true</td><td>false</td></tr><tr><th>19</th><td>5.4</td><td>3.0</td><td>4.5</td><td>1.5</td><td>false</td><td>true</td><td>false</td></tr><tr><th>20</th><td>6.3</td><td>2.3</td><td>4.4</td><td>1.3</td><td>false</td><td>true</td><td>false</td></tr><tr><th>21</th><td>6.1</td><td>3.0</td><td>4.6</td><td>1.4</td><td>false</td><td>true</td><td>false</td></tr><tr><th>22</th><td>5.7</td><td>3.0</td><td>4.2</td><td>1.2</td><td>false</td><td>true</td><td>false</td></tr><tr><th>23</th><td>7.1</td><td>3.0</td><td>5.9</td><td>2.1</td><td>false</td><td>false</td><td>true</td></tr><tr><th>24</th><td>7.3</td><td>2.9</td><td>6.3</td><td>1.8</td><td>false</td><td>false</td><td>true</td></tr><tr><th>25</th><td>6.4</td><td>2.7</td><td>5.3</td><td>1.9</td><td>false</td><td>false</td><td>true</td></tr><tr><th>26</th><td>6.8</td><td>3.0</td><td>5.5</td><td>2.1</td><td>false</td><td>false</td><td>true</td></tr><tr><th>27</th><td>7.7</td><td>2.6</td><td>6.9</td><td>2.3</td><td>false</td><td>false</td><td>true</td></tr><tr><th>28</th><td>7.7</td><td>2.8</td><td>6.7</td><td>2.0</td><td>false</td><td>false</td><td>true</td></tr><tr><th>29</th><td>6.3</td><td>2.7</td><td>4.9</td><td>1.8</td><td>false</td><td>false</td><td>true</td></tr><tr><th>30</th><td>6.2</td><td>2.8</td><td>4.8</td><td>1.8</td><td>false</td><td>false</td><td>true</td></tr><tr><th>&vellip;</th><td>&vellip;</td><td>&vellip;</td><td>&vellip;</td><td>&vellip;</td><td>&vellip;</td><td>&vellip;</td><td>&vellip;</td></tr></tbody></table>"
      ],
      "text/latex": [
       "\\begin{tabular}{r|ccccccc}\n",
       "\t& sepal\\_length & sepal\\_width & petal\\_length & petal\\_width & setosa & versicolor & virginica\\\\\n",
       "\t\\hline\n",
       "\t& Float64 & Float64 & Float64 & Float64 & Bool & Bool & Bool\\\\\n",
       "\t\\hline\n",
       "\t1 & 5.0 & 3.4 & 1.5 & 0.2 & true & false & false \\\\\n",
       "\t2 & 5.4 & 3.7 & 1.5 & 0.2 & true & false & false \\\\\n",
       "\t3 & 4.3 & 3.0 & 1.1 & 0.1 & true & false & false \\\\\n",
       "\t4 & 5.8 & 4.0 & 1.2 & 0.2 & true & false & false \\\\\n",
       "\t5 & 5.7 & 4.4 & 1.5 & 0.4 & true & false & false \\\\\n",
       "\t6 & 5.7 & 3.8 & 1.7 & 0.3 & true & false & false \\\\\n",
       "\t7 & 5.2 & 3.4 & 1.4 & 0.2 & true & false & false \\\\\n",
       "\t8 & 4.8 & 3.1 & 1.6 & 0.2 & true & false & false \\\\\n",
       "\t9 & 5.4 & 3.4 & 1.5 & 0.4 & true & false & false \\\\\n",
       "\t10 & 4.9 & 3.1 & 1.5 & 0.1 & true & false & false \\\\\n",
       "\t11 & 5.0 & 3.5 & 1.3 & 0.3 & true & false & false \\\\\n",
       "\t12 & 5.0 & 3.5 & 1.6 & 0.6 & true & false & false \\\\\n",
       "\t13 & 5.1 & 3.8 & 1.6 & 0.2 & true & false & false \\\\\n",
       "\t14 & 5.0 & 3.3 & 1.4 & 0.2 & true & false & false \\\\\n",
       "\t15 & 6.9 & 3.1 & 4.9 & 1.5 & false & true & false \\\\\n",
       "\t16 & 6.5 & 2.8 & 4.6 & 1.5 & false & true & false \\\\\n",
       "\t17 & 6.3 & 3.3 & 4.7 & 1.6 & false & true & false \\\\\n",
       "\t18 & 6.3 & 2.5 & 4.9 & 1.5 & false & true & false \\\\\n",
       "\t19 & 5.4 & 3.0 & 4.5 & 1.5 & false & true & false \\\\\n",
       "\t20 & 6.3 & 2.3 & 4.4 & 1.3 & false & true & false \\\\\n",
       "\t21 & 6.1 & 3.0 & 4.6 & 1.4 & false & true & false \\\\\n",
       "\t22 & 5.7 & 3.0 & 4.2 & 1.2 & false & true & false \\\\\n",
       "\t23 & 7.1 & 3.0 & 5.9 & 2.1 & false & false & true \\\\\n",
       "\t24 & 7.3 & 2.9 & 6.3 & 1.8 & false & false & true \\\\\n",
       "\t25 & 6.4 & 2.7 & 5.3 & 1.9 & false & false & true \\\\\n",
       "\t26 & 6.8 & 3.0 & 5.5 & 2.1 & false & false & true \\\\\n",
       "\t27 & 7.7 & 2.6 & 6.9 & 2.3 & false & false & true \\\\\n",
       "\t28 & 7.7 & 2.8 & 6.7 & 2.0 & false & false & true \\\\\n",
       "\t29 & 6.3 & 2.7 & 4.9 & 1.8 & false & false & true \\\\\n",
       "\t30 & 6.2 & 2.8 & 4.8 & 1.8 & false & false & true \\\\\n",
       "\t$\\dots$ & $\\dots$ & $\\dots$ & $\\dots$ & $\\dots$ & $\\dots$ & $\\dots$ & $\\dots$ \\\\\n",
       "\\end{tabular}\n"
      ],
      "text/plain": [
       "35×7 DataFrame. Omitted printing of 2 columns\n",
       "│ Row │ sepal_length │ sepal_width │ petal_length │ petal_width │ setosa │\n",
       "│     │ \u001b[90mFloat64\u001b[39m      │ \u001b[90mFloat64\u001b[39m     │ \u001b[90mFloat64\u001b[39m      │ \u001b[90mFloat64\u001b[39m     │ \u001b[90mBool\u001b[39m   │\n",
       "├─────┼──────────────┼─────────────┼──────────────┼─────────────┼────────┤\n",
       "│ 1   │ 5.0          │ 3.4         │ 1.5          │ 0.2         │ true   │\n",
       "│ 2   │ 5.4          │ 3.7         │ 1.5          │ 0.2         │ true   │\n",
       "│ 3   │ 4.3          │ 3.0         │ 1.1          │ 0.1         │ true   │\n",
       "│ 4   │ 5.8          │ 4.0         │ 1.2          │ 0.2         │ true   │\n",
       "│ 5   │ 5.7          │ 4.4         │ 1.5          │ 0.4         │ true   │\n",
       "│ 6   │ 5.7          │ 3.8         │ 1.7          │ 0.3         │ true   │\n",
       "│ 7   │ 5.2          │ 3.4         │ 1.4          │ 0.2         │ true   │\n",
       "│ 8   │ 4.8          │ 3.1         │ 1.6          │ 0.2         │ true   │\n",
       "│ 9   │ 5.4          │ 3.4         │ 1.5          │ 0.4         │ true   │\n",
       "│ 10  │ 4.9          │ 3.1         │ 1.5          │ 0.1         │ true   │\n",
       "⋮\n",
       "│ 25  │ 6.4          │ 2.7         │ 5.3          │ 1.9         │ false  │\n",
       "│ 26  │ 6.8          │ 3.0         │ 5.5          │ 2.1         │ false  │\n",
       "│ 27  │ 7.7          │ 2.6         │ 6.9          │ 2.3         │ false  │\n",
       "│ 28  │ 7.7          │ 2.8         │ 6.7          │ 2.0         │ false  │\n",
       "│ 29  │ 6.3          │ 2.7         │ 4.9          │ 1.8         │ false  │\n",
       "│ 30  │ 6.2          │ 2.8         │ 4.8          │ 1.8         │ false  │\n",
       "│ 31  │ 6.1          │ 2.6         │ 5.6          │ 1.4         │ false  │\n",
       "│ 32  │ 6.9          │ 3.1         │ 5.4          │ 2.1         │ false  │\n",
       "│ 33  │ 6.7          │ 3.3         │ 5.7          │ 2.5         │ false  │\n",
       "│ 34  │ 6.5          │ 3.0         │ 5.2          │ 2.0         │ false  │\n",
       "│ 35  │ 6.2          │ 3.4         │ 5.4          │ 2.3         │ false  │"
      ]
     },
     "execution_count": 65,
     "metadata": {},
     "output_type": "execute_result"
    }
   ],
   "source": [
    "using Random\n",
    "\n",
    "sample = randsubseq(1:size(iris, 1), 0.75)\n",
    "train = iris[sample, :]\n",
    "notsample = [i for i in 1:size(iris, 1) if isempty(searchsorted(sample, i))]\n",
    "test = iris[notsample, :]"
   ]
  },
  {
   "cell_type": "markdown",
   "metadata": {},
   "source": [
    "## Using GLM"
   ]
  },
  {
   "cell_type": "code",
   "execution_count": 66,
   "metadata": {},
   "outputs": [
    {
     "data": {
      "text/plain": [
       "35×3 Array{Float64,2}:\n",
       " 1.0          7.03287e-22  0.109778  \n",
       " 1.0          5.07423e-23  0.0477091 \n",
       " 1.0          3.11227e-22  0.241125  \n",
       " 1.0          2.85585e-25  0.0134553 \n",
       " 1.0          8.00615e-24  0.00274587\n",
       " 1.0          2.90138e-22  0.0353527 \n",
       " 1.0          1.81037e-22  0.101869  \n",
       " 1.0          1.3744e-20   0.267178  \n",
       " 1.0          3.73467e-21  0.0669209 \n",
       " 1.0          1.19166e-21  0.310731  \n",
       " 1.0          2.86623e-22  0.046789  \n",
       " 1.0          2.05629e-19  0.0272177 \n",
       " 1.0          1.48217e-22  0.0366673 \n",
       " ⋮                                   \n",
       " 8.38259e-26  0.999971     0.805315  \n",
       " 7.86098e-24  0.998688     0.551626  \n",
       " 2.84511e-24  0.999773     0.255739  \n",
       " 6.45819e-33  1.0          0.84768   \n",
       " 9.32514e-29  1.0          0.851339  \n",
       " 8.72348e-21  0.895251     0.492338  \n",
       " 3.36403e-20  0.733033     0.372272  \n",
       " 1.54204e-23  0.977617     0.92204   \n",
       " 6.21392e-23  0.998828     0.180904  \n",
       " 4.3709e-28   0.999999     0.0426998 \n",
       " 1.19385e-22  0.994818     0.227495  \n",
       " 3.53573e-26  0.999932     0.0346672 "
      ]
     },
     "execution_count": 66,
     "metadata": {},
     "output_type": "execute_result"
    }
   ],
   "source": [
    "using DataFrames, GLM\n",
    "\n",
    "fm_setosa = @formula(setosa ~ sepal_length + sepal_width + petal_length + petal_width)\n",
    "lm_setosa = glm(fm_setosa, train, Binomial(), LogitLink())\n",
    "pred_setosa = predict(lm_setosa, test)\n",
    "\n",
    "fm_virginica = @formula(virginica ~ sepal_length + sepal_width + petal_length + petal_width)\n",
    "lm_virginica = glm(fm_virginica, train, Binomial(), LogitLink())\n",
    "pred_virginica = predict(lm_virginica, test)\n",
    "\n",
    "fm_versicolor = @formula(versicolor ~ sepal_length + sepal_width + petal_length + petal_width)\n",
    "lm_versicolor = glm(fm_versicolor, train, Binomial(), LogitLink())\n",
    "pred_versicolor = predict(lm_versicolor, test)\n",
    "\n",
    "preds = hcat(pred_setosa, pred_virginica, pred_versicolor)"
   ]
  },
  {
   "cell_type": "code",
   "execution_count": 67,
   "metadata": {},
   "outputs": [],
   "source": [
    "# Reclass by maximum predicted proba\n",
    "preds_cat = String[];\n",
    "\n",
    "for i in 1:nrow(DataFrame(preds))\n",
    "    if pred_setosa[i] >= pred_virginica[i] && pred_setosa[i] >= pred_versicolor[i]\n",
    "        preds_cat = vcat(preds_cat, \"setosa\")\n",
    "    elseif pred_versicolor[i] >= pred_virginica[i] && pred_versicolor[i] >= pred_setosa[i]\n",
    "        preds_cat = vcat(preds_cat, \"versicolor\")\n",
    "    else\n",
    "        preds_cat = vcat(preds_cat, \"virginica\")\n",
    "    end\n",
    "end"
   ]
  },
  {
   "cell_type": "code",
   "execution_count": 70,
   "metadata": {},
   "outputs": [
    {
     "data": {
      "text/html": [
       "<table class=\"data-frame\"><thead><tr><th></th><th>sepal_length</th><th>sepal_width</th><th>petal_length</th><th>petal_width</th><th>setosa</th><th>versicolor</th><th>virginica</th></tr><tr><th></th><th>Float64</th><th>Float64</th><th>Float64</th><th>Float64</th><th>Bool</th><th>Bool</th><th>Bool</th></tr></thead><tbody><p>150 rows × 7 columns</p><tr><th>1</th><td>5.1</td><td>3.5</td><td>1.4</td><td>0.2</td><td>true</td><td>false</td><td>false</td></tr><tr><th>2</th><td>4.9</td><td>3.0</td><td>1.4</td><td>0.2</td><td>true</td><td>false</td><td>false</td></tr><tr><th>3</th><td>4.7</td><td>3.2</td><td>1.3</td><td>0.2</td><td>true</td><td>false</td><td>false</td></tr><tr><th>4</th><td>4.6</td><td>3.1</td><td>1.5</td><td>0.2</td><td>true</td><td>false</td><td>false</td></tr><tr><th>5</th><td>5.0</td><td>3.6</td><td>1.4</td><td>0.2</td><td>true</td><td>false</td><td>false</td></tr><tr><th>6</th><td>5.4</td><td>3.9</td><td>1.7</td><td>0.4</td><td>true</td><td>false</td><td>false</td></tr><tr><th>7</th><td>4.6</td><td>3.4</td><td>1.4</td><td>0.3</td><td>true</td><td>false</td><td>false</td></tr><tr><th>8</th><td>5.0</td><td>3.4</td><td>1.5</td><td>0.2</td><td>true</td><td>false</td><td>false</td></tr><tr><th>9</th><td>4.4</td><td>2.9</td><td>1.4</td><td>0.2</td><td>true</td><td>false</td><td>false</td></tr><tr><th>10</th><td>4.9</td><td>3.1</td><td>1.5</td><td>0.1</td><td>true</td><td>false</td><td>false</td></tr><tr><th>11</th><td>5.4</td><td>3.7</td><td>1.5</td><td>0.2</td><td>true</td><td>false</td><td>false</td></tr><tr><th>12</th><td>4.8</td><td>3.4</td><td>1.6</td><td>0.2</td><td>true</td><td>false</td><td>false</td></tr><tr><th>13</th><td>4.8</td><td>3.0</td><td>1.4</td><td>0.1</td><td>true</td><td>false</td><td>false</td></tr><tr><th>14</th><td>4.3</td><td>3.0</td><td>1.1</td><td>0.1</td><td>true</td><td>false</td><td>false</td></tr><tr><th>15</th><td>5.8</td><td>4.0</td><td>1.2</td><td>0.2</td><td>true</td><td>false</td><td>false</td></tr><tr><th>16</th><td>5.7</td><td>4.4</td><td>1.5</td><td>0.4</td><td>true</td><td>false</td><td>false</td></tr><tr><th>17</th><td>5.4</td><td>3.9</td><td>1.3</td><td>0.4</td><td>true</td><td>false</td><td>false</td></tr><tr><th>18</th><td>5.1</td><td>3.5</td><td>1.4</td><td>0.3</td><td>true</td><td>false</td><td>false</td></tr><tr><th>19</th><td>5.7</td><td>3.8</td><td>1.7</td><td>0.3</td><td>true</td><td>false</td><td>false</td></tr><tr><th>20</th><td>5.1</td><td>3.8</td><td>1.5</td><td>0.3</td><td>true</td><td>false</td><td>false</td></tr><tr><th>21</th><td>5.4</td><td>3.4</td><td>1.7</td><td>0.2</td><td>true</td><td>false</td><td>false</td></tr><tr><th>22</th><td>5.1</td><td>3.7</td><td>1.5</td><td>0.4</td><td>true</td><td>false</td><td>false</td></tr><tr><th>23</th><td>4.6</td><td>3.6</td><td>1.0</td><td>0.2</td><td>true</td><td>false</td><td>false</td></tr><tr><th>24</th><td>5.1</td><td>3.3</td><td>1.7</td><td>0.5</td><td>true</td><td>false</td><td>false</td></tr><tr><th>25</th><td>4.8</td><td>3.4</td><td>1.9</td><td>0.2</td><td>true</td><td>false</td><td>false</td></tr><tr><th>26</th><td>5.0</td><td>3.0</td><td>1.6</td><td>0.2</td><td>true</td><td>false</td><td>false</td></tr><tr><th>27</th><td>5.0</td><td>3.4</td><td>1.6</td><td>0.4</td><td>true</td><td>false</td><td>false</td></tr><tr><th>28</th><td>5.2</td><td>3.5</td><td>1.5</td><td>0.2</td><td>true</td><td>false</td><td>false</td></tr><tr><th>29</th><td>5.2</td><td>3.4</td><td>1.4</td><td>0.2</td><td>true</td><td>false</td><td>false</td></tr><tr><th>30</th><td>4.7</td><td>3.2</td><td>1.6</td><td>0.2</td><td>true</td><td>false</td><td>false</td></tr><tr><th>&vellip;</th><td>&vellip;</td><td>&vellip;</td><td>&vellip;</td><td>&vellip;</td><td>&vellip;</td><td>&vellip;</td><td>&vellip;</td></tr></tbody></table>"
      ],
      "text/latex": [
       "\\begin{tabular}{r|ccccccc}\n",
       "\t& sepal\\_length & sepal\\_width & petal\\_length & petal\\_width & setosa & versicolor & virginica\\\\\n",
       "\t\\hline\n",
       "\t& Float64 & Float64 & Float64 & Float64 & Bool & Bool & Bool\\\\\n",
       "\t\\hline\n",
       "\t1 & 5.1 & 3.5 & 1.4 & 0.2 & true & false & false \\\\\n",
       "\t2 & 4.9 & 3.0 & 1.4 & 0.2 & true & false & false \\\\\n",
       "\t3 & 4.7 & 3.2 & 1.3 & 0.2 & true & false & false \\\\\n",
       "\t4 & 4.6 & 3.1 & 1.5 & 0.2 & true & false & false \\\\\n",
       "\t5 & 5.0 & 3.6 & 1.4 & 0.2 & true & false & false \\\\\n",
       "\t6 & 5.4 & 3.9 & 1.7 & 0.4 & true & false & false \\\\\n",
       "\t7 & 4.6 & 3.4 & 1.4 & 0.3 & true & false & false \\\\\n",
       "\t8 & 5.0 & 3.4 & 1.5 & 0.2 & true & false & false \\\\\n",
       "\t9 & 4.4 & 2.9 & 1.4 & 0.2 & true & false & false \\\\\n",
       "\t10 & 4.9 & 3.1 & 1.5 & 0.1 & true & false & false \\\\\n",
       "\t11 & 5.4 & 3.7 & 1.5 & 0.2 & true & false & false \\\\\n",
       "\t12 & 4.8 & 3.4 & 1.6 & 0.2 & true & false & false \\\\\n",
       "\t13 & 4.8 & 3.0 & 1.4 & 0.1 & true & false & false \\\\\n",
       "\t14 & 4.3 & 3.0 & 1.1 & 0.1 & true & false & false \\\\\n",
       "\t15 & 5.8 & 4.0 & 1.2 & 0.2 & true & false & false \\\\\n",
       "\t16 & 5.7 & 4.4 & 1.5 & 0.4 & true & false & false \\\\\n",
       "\t17 & 5.4 & 3.9 & 1.3 & 0.4 & true & false & false \\\\\n",
       "\t18 & 5.1 & 3.5 & 1.4 & 0.3 & true & false & false \\\\\n",
       "\t19 & 5.7 & 3.8 & 1.7 & 0.3 & true & false & false \\\\\n",
       "\t20 & 5.1 & 3.8 & 1.5 & 0.3 & true & false & false \\\\\n",
       "\t21 & 5.4 & 3.4 & 1.7 & 0.2 & true & false & false \\\\\n",
       "\t22 & 5.1 & 3.7 & 1.5 & 0.4 & true & false & false \\\\\n",
       "\t23 & 4.6 & 3.6 & 1.0 & 0.2 & true & false & false \\\\\n",
       "\t24 & 5.1 & 3.3 & 1.7 & 0.5 & true & false & false \\\\\n",
       "\t25 & 4.8 & 3.4 & 1.9 & 0.2 & true & false & false \\\\\n",
       "\t26 & 5.0 & 3.0 & 1.6 & 0.2 & true & false & false \\\\\n",
       "\t27 & 5.0 & 3.4 & 1.6 & 0.4 & true & false & false \\\\\n",
       "\t28 & 5.2 & 3.5 & 1.5 & 0.2 & true & false & false \\\\\n",
       "\t29 & 5.2 & 3.4 & 1.4 & 0.2 & true & false & false \\\\\n",
       "\t30 & 4.7 & 3.2 & 1.6 & 0.2 & true & false & false \\\\\n",
       "\t$\\dots$ & $\\dots$ & $\\dots$ & $\\dots$ & $\\dots$ & $\\dots$ & $\\dots$ & $\\dots$ \\\\\n",
       "\\end{tabular}\n"
      ],
      "text/plain": [
       "150×7 DataFrame. Omitted printing of 2 columns\n",
       "│ Row │ sepal_length │ sepal_width │ petal_length │ petal_width │ setosa │\n",
       "│     │ \u001b[90mFloat64\u001b[39m      │ \u001b[90mFloat64\u001b[39m     │ \u001b[90mFloat64\u001b[39m      │ \u001b[90mFloat64\u001b[39m     │ \u001b[90mBool\u001b[39m   │\n",
       "├─────┼──────────────┼─────────────┼──────────────┼─────────────┼────────┤\n",
       "│ 1   │ 5.1          │ 3.5         │ 1.4          │ 0.2         │ true   │\n",
       "│ 2   │ 4.9          │ 3.0         │ 1.4          │ 0.2         │ true   │\n",
       "│ 3   │ 4.7          │ 3.2         │ 1.3          │ 0.2         │ true   │\n",
       "│ 4   │ 4.6          │ 3.1         │ 1.5          │ 0.2         │ true   │\n",
       "│ 5   │ 5.0          │ 3.6         │ 1.4          │ 0.2         │ true   │\n",
       "│ 6   │ 5.4          │ 3.9         │ 1.7          │ 0.4         │ true   │\n",
       "│ 7   │ 4.6          │ 3.4         │ 1.4          │ 0.3         │ true   │\n",
       "│ 8   │ 5.0          │ 3.4         │ 1.5          │ 0.2         │ true   │\n",
       "│ 9   │ 4.4          │ 2.9         │ 1.4          │ 0.2         │ true   │\n",
       "│ 10  │ 4.9          │ 3.1         │ 1.5          │ 0.1         │ true   │\n",
       "⋮\n",
       "│ 140 │ 6.9          │ 3.1         │ 5.4          │ 2.1         │ false  │\n",
       "│ 141 │ 6.7          │ 3.1         │ 5.6          │ 2.4         │ false  │\n",
       "│ 142 │ 6.9          │ 3.1         │ 5.1          │ 2.3         │ false  │\n",
       "│ 143 │ 5.8          │ 2.7         │ 5.1          │ 1.9         │ false  │\n",
       "│ 144 │ 6.8          │ 3.2         │ 5.9          │ 2.3         │ false  │\n",
       "│ 145 │ 6.7          │ 3.3         │ 5.7          │ 2.5         │ false  │\n",
       "│ 146 │ 6.7          │ 3.0         │ 5.2          │ 2.3         │ false  │\n",
       "│ 147 │ 6.3          │ 2.5         │ 5.0          │ 1.9         │ false  │\n",
       "│ 148 │ 6.5          │ 3.0         │ 5.2          │ 2.0         │ false  │\n",
       "│ 149 │ 6.2          │ 3.4         │ 5.4          │ 2.3         │ false  │\n",
       "│ 150 │ 5.9          │ 3.0         │ 5.1          │ 1.8         │ false  │"
      ]
     },
     "execution_count": 70,
     "metadata": {},
     "output_type": "execute_result"
    }
   ],
   "source": [
    "iris_orig"
   ]
  },
  {
   "cell_type": "code",
   "execution_count": 69,
   "metadata": {},
   "outputs": [
    {
     "ename": "ArgumentError",
     "evalue": "ArgumentError: column name :species not found in the data frame",
     "output_type": "error",
     "traceback": [
      "ArgumentError: column name :species not found in the data frame",
      "",
      "Stacktrace:",
      " [1] lookupname at /home/halper/.julia/packages/DataFrames/GtZ1l/src/other/index.jl:286 [inlined]",
      " [2] getindex at /home/halper/.julia/packages/DataFrames/GtZ1l/src/other/index.jl:295 [inlined]",
      " [3] getindex(::DataFrame, ::Array{Int32,1}, ::Symbol) at /home/halper/.julia/packages/DataFrames/GtZ1l/src/dataframe/dataframe.jl:409",
      " [4] top-level scope at In[69]:4"
     ]
    }
   ],
   "source": [
    "# Compute accuracy of GLM\n",
    "\n",
    "correct = 0\n",
    "\n",
    "actual = iris_orig[notsample, :species]\n",
    "n = length(actual)\n",
    "for i in 1:n\n",
    "    if actual[i] == preds_cat[i]\n",
    "        correct += 1\n",
    "    end\n",
    "end\n",
    "\n",
    "println(correct / n)"
   ]
  },
  {
   "cell_type": "code",
   "execution_count": null,
   "metadata": {},
   "outputs": [],
   "source": []
  }
 ],
 "metadata": {
  "kernelspec": {
   "display_name": "Julia 1.0.4",
   "language": "julia",
   "name": "julia-1.0"
  },
  "language_info": {
   "file_extension": ".jl",
   "mimetype": "application/julia",
   "name": "julia",
   "version": "1.0.4"
  }
 },
 "nbformat": 4,
 "nbformat_minor": 4
}
